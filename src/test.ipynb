{
 "cells": [
  {
   "cell_type": "code",
   "execution_count": 6,
   "metadata": {},
   "outputs": [],
   "source": [
    "class A():\n",
    "    def __init__(self, name, plus):\n",
    "        self.name = name\n",
    "        self.plus = plus\n",
    "    \n",
    "    def pr(self):\n",
    "        print(self.name)\n",
    "        print(self.plus)\n",
    "\n",
    "class B(A):\n",
    "    def __init__(self, name, plus, k):\n",
    "        super(B,self).__init__(name, plus)\n",
    "        self.k = k\n",
    "    \n",
    "    def pr(self):\n",
    "        print(self.k)\n",
    "\n",
    "t = B(1,2,3)"
   ]
  }
 ],
 "metadata": {
  "interpreter": {
   "hash": "5179d32cf6ec497baf3f8a3ef987cc77c5d2dc691fdde20a56316522f61a7323"
  },
  "kernelspec": {
   "display_name": "Python 3.8.8 ('base')",
   "language": "python",
   "name": "python3"
  },
  "language_info": {
   "codemirror_mode": {
    "name": "ipython",
    "version": 3
   },
   "file_extension": ".py",
   "mimetype": "text/x-python",
   "name": "python",
   "nbconvert_exporter": "python",
   "pygments_lexer": "ipython3",
   "version": "3.8.8"
  },
  "orig_nbformat": 4
 },
 "nbformat": 4,
 "nbformat_minor": 2
}
